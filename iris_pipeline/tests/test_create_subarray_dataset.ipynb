{
 "cells": [
  {
   "cell_type": "code",
   "execution_count": null,
   "metadata": {},
   "outputs": [],
   "source": [
    "import iris_pipeline\n",
    "iris_pipeline.monkeypatch_jwst_datamodels()\n",
    "\n",
    "import numpy as np"
   ]
  },
  {
   "cell_type": "code",
   "execution_count": null,
   "metadata": {},
   "outputs": [],
   "source": [
    "iris_pipeline.__file__"
   ]
  },
  {
   "cell_type": "markdown",
   "metadata": {},
   "source": [
    "The purpose of this notebook is to create a dataset with a full frame and relative subarrays\n",
    "\n",
    "## Prepare the raw science frame\n",
    "\n",
    "* Load raw science frame\n",
    "* Add `SUBARR_MAP` extension"
   ]
  },
  {
   "cell_type": "code",
   "execution_count": null,
   "metadata": {},
   "outputs": [],
   "source": [
    "%matplotlib inline\n",
    "import matplotlib.pyplot as plt"
   ]
  },
  {
   "cell_type": "code",
   "execution_count": null,
   "metadata": {},
   "outputs": [],
   "source": [
    "from test_utils import get_data_from_url\n",
    "raw_science_filename = get_data_from_url(\"17903858\")\n",
    "im = iris_pipeline.datamodels.IRISImageModel(raw_science_filename)"
   ]
  },
  {
   "cell_type": "code",
   "execution_count": null,
   "metadata": {},
   "outputs": [],
   "source": [
    "s1 = 300\n",
    "s2 = 100\n",
    "subarray_maps_metadata = []\n",
    "# square subarray\n",
    "subarray_maps_metadata.append({\"xstart\":2048-s1//2, \"ystart\":2048-s1//2, \"xsize\":s1, \"ysize\":s1})  \n",
    "# test a rectangular subarray\n",
    "subarray_maps_metadata.append({\"xstart\":1040-s2//2, \"ystart\":1040-s2//2, \"xsize\":s2, \"ysize\":s2//2})  "
   ]
  },
  {
   "cell_type": "code",
   "execution_count": null,
   "metadata": {},
   "outputs": [],
   "source": [
    "plt.imshow(im.data);"
   ]
  },
  {
   "cell_type": "code",
   "execution_count": null,
   "metadata": {},
   "outputs": [],
   "source": [
    "def set_subarray_mask(mask_array, subarray_index, xstart, ystart, xsize, ysize):\n",
    "    xstart = xstart - 1\n",
    "    ystart = ystart - 1\n",
    "    mask_array[ystart:ystart+ysize, xstart:xstart+xsize] =  subarray_index                 "
   ]
  },
  {
   "cell_type": "code",
   "execution_count": null,
   "metadata": {},
   "outputs": [],
   "source": [
    "im.subarr_map = np.zeros_like(im.data)"
   ]
  },
  {
   "cell_type": "code",
   "execution_count": null,
   "metadata": {},
   "outputs": [],
   "source": [
    "for i, shape in enumerate(subarray_maps_metadata):\n",
    "    set_subarray_mask(im.subarr_map, subarray_index=i+1, **shape)"
   ]
  },
  {
   "cell_type": "code",
   "execution_count": null,
   "metadata": {},
   "outputs": [],
   "source": [
    "plt.imshow(im.data[im.subarr_map==1].reshape((s1,s1)));"
   ]
  },
  {
   "cell_type": "code",
   "execution_count": null,
   "metadata": {},
   "outputs": [],
   "source": [
    "plt.imshow(im.data[im.subarr_map==2].reshape((s2//2,-1)));"
   ]
  },
  {
   "cell_type": "code",
   "execution_count": null,
   "metadata": {},
   "outputs": [],
   "source": [
    "plt.imshow(im.subarr_map);"
   ]
  },
  {
   "cell_type": "code",
   "execution_count": null,
   "metadata": {},
   "outputs": [],
   "source": [
    "im.data[im.subarr_map != 0] = np.nan"
   ]
  },
  {
   "cell_type": "code",
   "execution_count": null,
   "metadata": {},
   "outputs": [],
   "source": [
    "im.write(\"data/raw_science_frame_sci_with_subarrays.fits\")"
   ]
  },
  {
   "cell_type": "markdown",
   "metadata": {},
   "source": [
    "## Run the image2 pipeline"
   ]
  },
  {
   "cell_type": "code",
   "execution_count": null,
   "metadata": {},
   "outputs": [],
   "source": [
    "pipeline = iris_pipeline.Image2Pipeline()\n",
    "\n",
    "output = pipeline.call(\"data/raw_science_frame_sci_with_subarrays.fits\",\n",
    "             config_file=\"data/image2_iris.cfg\")[0]"
   ]
  },
  {
   "cell_type": "markdown",
   "metadata": {},
   "source": [
    "## Check the output has correct metadata"
   ]
  },
  {
   "cell_type": "code",
   "execution_count": null,
   "metadata": {},
   "outputs": [],
   "source": [
    "for each_parsed, each_input in zip(output.meta.subarray_map, subarray_maps_metadata):\n",
    "    assert each_parsed.instance == each_input"
   ]
  },
  {
   "cell_type": "code",
   "execution_count": null,
   "metadata": {},
   "outputs": [],
   "source": []
  }
 ],
 "metadata": {
  "kernelspec": {
   "display_name": "jwst",
   "language": "python",
   "name": "jwst"
  },
  "language_info": {
   "codemirror_mode": {
    "name": "ipython",
    "version": 3
   },
   "file_extension": ".py",
   "mimetype": "text/x-python",
   "name": "python",
   "nbconvert_exporter": "python",
   "pygments_lexer": "ipython3",
   "version": "3.6.9"
  }
 },
 "nbformat": 4,
 "nbformat_minor": 4
}
